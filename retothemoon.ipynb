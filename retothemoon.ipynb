{
 "cells": [
  {
   "cell_type": "code",
   "execution_count": null,
   "id": "9644f3e3",
   "metadata": {},
   "outputs": [],
   "source": [
    "import pandas as pd\n",
    "pd.options.display.float_format = \"{:.2f}\".format"
   ]
  },
  {
   "cell_type": "code",
   "execution_count": null,
   "id": "8e8ea1f2",
   "metadata": {},
   "outputs": [],
   "source": [
    "#csv파일을 불러온다\n",
    "rock_samples = pd.read_csv(\"C:/Users/EL11/dataschool/rocksamples.csv\") #이과정에서 오류가 났는데 경로 복사할때 '\\'로 들어가서 수기로 '/'로 고쳐줌"
   ]
  },
  {
   "cell_type": "code",
   "execution_count": null,
   "id": "1b66e9ae",
   "metadata": {},
   "outputs": [],
   "source": [
    "#데이터프레임 살펴보기 1. 위에서 부터 5개\n",
    "rock_samples.head()"
   ]
  },
  {
   "cell_type": "code",
   "execution_count": null,
   "id": "bc63cfd0",
   "metadata": {},
   "outputs": [],
   "source": [
    "#데이터프레임 살펴보기 1. 밑에서 부터 5개\n",
    "rock_samples.tail()"
   ]
  },
  {
   "cell_type": "code",
   "execution_count": null,
   "id": "1cdf8bd3",
   "metadata": {},
   "outputs": [],
   "source": [
    "rock_samples.info()\n",
    "#Column 아래로 INDEX\n",
    "#Dtype은 데이터 타입관련, 가장 아래 dytypes는 각 컬럼의 데이터 타입\n",
    "#(total 6 columns)_전체 행수\n",
    "#Memory usage 메모리 사용량"
   ]
  },
  {
   "cell_type": "code",
   "execution_count": null,
   "id": "ce446f5f",
   "metadata": {},
   "outputs": [],
   "source": [
    "rock_samples.describe()"
   ]
  },
  {
   "cell_type": "code",
   "execution_count": null,
   "id": "2384ef39",
   "metadata": {},
   "outputs": [],
   "source": [
    "#누락값 검사\n",
    "rock_samples.isnull().sum()"
   ]
  },
  {
   "cell_type": "markdown",
   "id": "1f67ffdd",
   "metadata": {},
   "source": [
    "#subType에 누락값이 3개 있는 것을 확인"
   ]
  },
  {
   "cell_type": "code",
   "execution_count": null,
   "id": "6677bb96",
   "metadata": {},
   "outputs": [],
   "source": [
    "rock_samples.isnull()"
   ]
  },
  {
   "cell_type": "markdown",
   "id": "fb490ed8",
   "metadata": {},
   "source": [
    "열단위 데이터 추출"
   ]
  },
  {
   "cell_type": "code",
   "execution_count": null,
   "id": "fc272cf1",
   "metadata": {},
   "outputs": [],
   "source": [
    "sample_series = rock_samples['Weight (g)']\n",
    "sample_series"
   ]
  },
  {
   "cell_type": "code",
   "execution_count": null,
   "id": "54a99343",
   "metadata": {},
   "outputs": [],
   "source": [
    "sample_df = rock_samples[['Type','Weight (g)']]\n",
    "sample_df"
   ]
  },
  {
   "cell_type": "code",
   "execution_count": null,
   "id": "9b7b80e1",
   "metadata": {},
   "outputs": [],
   "source": [
    "rock_samples['Weight (kg)'] = rock_samples['Weight (g)'] / 1000"
   ]
  },
  {
   "cell_type": "markdown",
   "id": "48e17b26",
   "metadata": {},
   "source": [
    "람다lambda 함수도 사용가능하다"
   ]
  },
  {
   "cell_type": "markdown",
   "id": "e110de95",
   "metadata": {},
   "source": [
    "단위가 g에서 kg로 바뀐것을 알 수 있다."
   ]
  },
  {
   "cell_type": "code",
   "execution_count": null,
   "id": "db487b1f",
   "metadata": {},
   "outputs": [],
   "source": [
    "rock_samples.head()"
   ]
  },
  {
   "cell_type": "code",
   "execution_count": null,
   "id": "210de9ea",
   "metadata": {},
   "outputs": [],
   "source": [
    "missions = pd.DataFrame() #빈데이터 프레임을 만들어 missions 라는 변수에 할당\n",
    "missions"
   ]
  },
  {
   "cell_type": "code",
   "execution_count": null,
   "id": "f21935c9",
   "metadata": {},
   "outputs": [],
   "source": [
    "type(missions)"
   ]
  },
  {
   "cell_type": "code",
   "execution_count": null,
   "id": "3c3d5374",
   "metadata": {},
   "outputs": [],
   "source": [
    "type(rock_samples['Mission'])"
   ]
  },
  {
   "cell_type": "code",
   "execution_count": null,
   "id": "0bafa38d",
   "metadata": {},
   "outputs": [],
   "source": [
    "rock_samples['Mission'].unique() #Series.unique()는 시리즈에서 고유한 값들을 찾아주는 명령어"
   ]
  },
  {
   "cell_type": "code",
   "execution_count": null,
   "id": "bd5cad05",
   "metadata": {},
   "outputs": [],
   "source": [
    "missions['Mission'] = rock_samples['Mission'].unique()\n",
    "missions"
   ]
  },
  {
   "cell_type": "code",
   "execution_count": null,
   "id": "69d41254",
   "metadata": {},
   "outputs": [],
   "source": [
    "missions.info()"
   ]
  },
  {
   "cell_type": "code",
   "execution_count": null,
   "id": "73f76017",
   "metadata": {},
   "outputs": [],
   "source": [
    "\n",
    "#groupby 컬럼의 고유값에 따라 묶어서 집계 또는 통계 처리를 할 때 그룹바이 명령을 적용\n",
    "sample_total_weight = rock_samples.groupby('Mission')['Weight (kg)'].sum()\n",
    "sample_total_weight"
   ]
  },
  {
   "cell_type": "code",
   "execution_count": null,
   "id": "68b77094",
   "metadata": {},
   "outputs": [],
   "source": [
    "type(sample_total_weight)"
   ]
  },
  {
   "cell_type": "code",
   "execution_count": null,
   "id": "321270d4",
   "metadata": {},
   "outputs": [],
   "source": [
    "#pd.merge : 데이터프레임의 컬럼명 중에서 시리즈의 인덱스명과 같은 컬럼을 기준으로 데이터프레임과 시리즈를 병합\n",
    "#pd.merge( df, s, on=‘시리즈 인덱스와 같은 데이터프레임의 컬럼명’ )\n",
    "missions = pd.merge(missions, sample_total_weight, on = 'Mission')"
   ]
  },
  {
   "cell_type": "code",
   "execution_count": null,
   "id": "2d8dd874",
   "metadata": {},
   "outputs": [],
   "source": [
    "missions"
   ]
  },
  {
   "cell_type": "code",
   "execution_count": null,
   "id": "85f506b1",
   "metadata": {},
   "outputs": [],
   "source": [
    "#missions.rename( columns={ 변경전 컬럼명 : 변경후 컬럼명 }, inplace=True )\n",
    "missions.rename(columns={'Weight (kg)' : 'Sample Weight (kg)'}, inplace=True)\n",
    "missions"
   ]
  },
  {
   "cell_type": "code",
   "execution_count": null,
   "id": "7bea2b81",
   "metadata": {},
   "outputs": [],
   "source": [
    "missions['Weight diff'] = missions['Sample Weight (kg)'].diff()\n",
    "missions #첫번째는 이전과 차이가 없기 때문에 NaN"
   ]
  },
  {
   "cell_type": "code",
   "execution_count": null,
   "id": "a07dd903",
   "metadata": {},
   "outputs": [],
   "source": [
    "missions.fillna(value=0,inplace=True) #NaN을 0으로 바꿔주는 작업\n",
    "missions"
   ]
  },
  {
   "cell_type": "code",
   "execution_count": null,
   "id": "a2d56b87",
   "metadata": {},
   "outputs": [],
   "source": [
    "#달탐사선의 중량 데이터를 추가한다\n",
    "missions['Lunar module (LM)'] = ['Eagel (LM-5)','Interpid (LM-6)','Antares (LM-8)','Falcon (LM-10)','Orion (LM-11)','Challenger (LM-12)']\n",
    "missions['LM mass (kg)'] = [15103,15235,15264,16430,16445,16456] #입력\n",
    "missions['LM mass diff'] = missions['LM mass (kg)'].diff() #이전값과의 차이\n",
    "missions['LM mass diff'] = missions['LM mass diff'].fillna(value=0)"
   ]
  },
  {
   "cell_type": "code",
   "execution_count": null,
   "id": "b4a60f20",
   "metadata": {},
   "outputs": [],
   "source": [
    "missions"
   ]
  },
  {
   "cell_type": "code",
   "execution_count": null,
   "id": "43bb9a42",
   "metadata": {},
   "outputs": [],
   "source": [
    "#명령모듈의 추가\n",
    "missions['Command Module (CM)'] = ['Columbia (CM-107)','Yankee Clipper (CM-108)','Kitty Hwak (CM-110)','Endeavor (CM-110)','Casper (CM-113)','America (CM-114)']\n",
    "missions['CM mass (kg)'] = [5560,5609,5758,5875,5840,5960]\n",
    "missions['CM mass diff'] = missions['CM mass (kg)'].diff()\n",
    "missions['CM mass diff'] = missions['CM mass diff'].fillna(value=0)\n",
    "missions"
   ]
  },
  {
   "cell_type": "code",
   "execution_count": null,
   "id": "d70bc566",
   "metadata": {},
   "outputs": [],
   "source": [
    "missions['Total Weight (kg)'] = missions['LM mass (kg)'] + missions['CM mass (kg)'] #무게의 합\n",
    "missions['Total Weight diff'] = missions['LM mass diff'] + missions['CM mass diff'] #중량차의 합\n",
    "missions"
   ]
  },
  {
   "cell_type": "code",
   "execution_count": null,
   "id": "abd90005",
   "metadata": {},
   "outputs": [],
   "source": [
    "#로켓안의 실리는 하중 Payload Sample-to-weight ratio\n",
    "saturnVPayload = 43500\n",
    "#승무원 영역이 차지하는 비율\n",
    "missions['Crewed area : Payload'] = missions['Total Weight (kg)'] / saturnVPayload"
   ]
  },
  {
   "cell_type": "code",
   "execution_count": null,
   "id": "c033740a",
   "metadata": {},
   "outputs": [],
   "source": [
    "#승무원 영역의 샘플중량 비율\n",
    "missions['Sample : Crewed area'] = missions['Sample Weight (kg)'] / missions['Total Weight (kg)']"
   ]
  },
  {
   "cell_type": "code",
   "execution_count": null,
   "id": "7e9efe05",
   "metadata": {},
   "outputs": [],
   "source": [
    "#페이로드에 대한 샘플 중량 비율\n",
    "missions['Sample : Payload'] = missions['Sample Weight (kg)'] / saturnVPayload"
   ]
  },
  {
   "cell_type": "code",
   "execution_count": null,
   "id": "1956873d",
   "metadata": {},
   "outputs": [],
   "source": [
    "missions"
   ]
  },
  {
   "cell_type": "code",
   "execution_count": null,
   "id": "e689f568",
   "metadata": {},
   "outputs": [],
   "source": [
    "#아르테미스 임무 수행시 예상값 측정\n",
    "artemis_crewedArea = 26520\n",
    "artemis_mission = pd.DataFrame({'Mission':['artemis1','artemis1b','artemis2'],'Total Weight (kg)':[artemis_crewedArea,artemis_crewedArea,artemis_crewedArea],'Payload (kg)':[26988,37965,42955]})\n",
    "artemis_mission"
   ]
  },
  {
   "cell_type": "code",
   "execution_count": null,
   "id": "86eb8377",
   "metadata": {},
   "outputs": [],
   "source": [
    "missions['Crewed area : Payload'].min() #최소값"
   ]
  },
  {
   "cell_type": "code",
   "execution_count": null,
   "id": "65a94793",
   "metadata": {},
   "outputs": [],
   "source": [
    "missions['Crewed area : Payload'].max() #최대값"
   ]
  },
  {
   "cell_type": "code",
   "execution_count": null,
   "id": "3f08e4a4",
   "metadata": {},
   "outputs": [],
   "source": [
    "missions['Crewed area : Payload'].mean() #평균값"
   ]
  },
  {
   "cell_type": "code",
   "execution_count": null,
   "id": "4c98a965",
   "metadata": {},
   "outputs": [],
   "source": [
    "missions['Crewed area : Payload'].median() #중위값"
   ]
  },
  {
   "cell_type": "code",
   "execution_count": null,
   "id": "95f27d06",
   "metadata": {},
   "outputs": [],
   "source": [
    "missions"
   ]
  },
  {
   "cell_type": "code",
   "execution_count": null,
   "id": "66728260",
   "metadata": {},
   "outputs": [],
   "source": [
    "missions['Sample Weight (kg)'].sum() #아폴로 임무에서 구해온 암석샘플 중량의 총합"
   ]
  },
  {
   "cell_type": "code",
   "execution_count": null,
   "id": "4e45456e",
   "metadata": {},
   "outputs": [],
   "source": [
    "crewedArea_payload_ratio = missions['Crewed area : Payload'].mean()\n",
    "sample_crewedArea_ratio =  missions['Sample : Crewed area'].mean()\n",
    "sample_payload_ratio = missions['Sample : Payload'].mean()\n",
    "print(crewedArea_payload_ratio)\n",
    "print(sample_crewedArea_ratio)\n",
    "print(sample_payload_ratio)"
   ]
  },
  {
   "cell_type": "code",
   "execution_count": null,
   "id": "7fbfe9ec",
   "metadata": {},
   "outputs": [],
   "source": [
    "artemis_mission['Sample weight from total (kg)'] = artemis_mission['Total Weight (kg)']*sample_crewedArea_ratio\n",
    "artemis_mission['Sample weight from payload (kg)'] = artemis_mission['Payload (kg)']*sample_payload_ratio\n",
    "artemis_mission"
   ]
  },
  {
   "cell_type": "code",
   "execution_count": null,
   "id": "cb764ecd",
   "metadata": {},
   "outputs": [],
   "source": [
    "#아르테미스 샘플 예상 중량은 이렇게\n",
    "artemis_mission['Estimated sample weight (kg)'] = (artemis_mission['Sample weight from payload (kg)'] + artemis_mission['Sample weight from total (kg)'])/2\n",
    "artemis_mission"
   ]
  },
  {
   "cell_type": "code",
   "execution_count": null,
   "id": "df180ccc",
   "metadata": {},
   "outputs": [],
   "source": [
    "rock_samples.head()"
   ]
  },
  {
   "cell_type": "code",
   "execution_count": null,
   "id": "24f51c54",
   "metadata": {},
   "outputs": [],
   "source": [
    "rock_samples['Remaining (kg)'] = rock_samples['Weight (kg)']*(rock_samples['Pristine (%)']*0.01)\n",
    "rock_samples.head()"
   ]
  },
  {
   "cell_type": "code",
   "execution_count": null,
   "id": "85ef59e4",
   "metadata": {},
   "outputs": [],
   "source": [
    "rock_samples.describe()"
   ]
  },
  {
   "cell_type": "code",
   "execution_count": null,
   "id": "eb3a375c",
   "metadata": {},
   "outputs": [],
   "source": [
    "rock_samples['Weight (kg)'] >= .16"
   ]
  },
  {
   "cell_type": "code",
   "execution_count": null,
   "id": "da389876",
   "metadata": {},
   "outputs": [],
   "source": [
    "rock_samples['Pristine (%)'] <= 50"
   ]
  },
  {
   "cell_type": "code",
   "execution_count": null,
   "id": "4cdb27b4",
   "metadata": {},
   "outputs": [],
   "source": [
    "(rock_samples['Weight (kg)']>=.16)&((rock_samples['Pristine (%)']<=50))"
   ]
  },
  {
   "cell_type": "code",
   "execution_count": null,
   "id": "b11d0bf3",
   "metadata": {},
   "outputs": [],
   "source": [
    "low_samples = rock_samples.loc[(rock_samples['Weight (kg)']>=.16)&(rock_samples['Pristine (%)']<=50)]\n",
    "low_samples.head()"
   ]
  },
  {
   "cell_type": "code",
   "execution_count": null,
   "id": "fcc1d002",
   "metadata": {},
   "outputs": [],
   "source": [
    "low_samples.groupby('Type')['Weight (kg)'].count()"
   ]
  },
  {
   "cell_type": "code",
   "execution_count": null,
   "id": "110cb9fc",
   "metadata": {},
   "outputs": [],
   "source": [
    "low_samples['Type'].isin(['Basalt','Breccia'])"
   ]
  },
  {
   "cell_type": "code",
   "execution_count": null,
   "id": "0e88892c",
   "metadata": {},
   "outputs": [],
   "source": [
    "low_samples.loc[low_samples['Type'].isin(['Basalt','Breccia'])]"
   ]
  },
  {
   "cell_type": "code",
   "execution_count": null,
   "id": "e517d0bf",
   "metadata": {},
   "outputs": [],
   "source": [
    "needed_samples = low_samples.loc[low_samples['Type'].isin(['Basalt','Breccia'])]\n",
    "needed_samples.head()"
   ]
  },
  {
   "cell_type": "code",
   "execution_count": null,
   "id": "e5a88b86",
   "metadata": {},
   "outputs": [],
   "source": [
    "needed_samples.info()"
   ]
  },
  {
   "cell_type": "code",
   "execution_count": null,
   "id": "b6653c6b",
   "metadata": {},
   "outputs": [],
   "source": [
    "needed_samples.groupby('Type')['Weight (kg)'].sum()"
   ]
  },
  {
   "cell_type": "code",
   "execution_count": null,
   "id": "e5f6951e",
   "metadata": {},
   "outputs": [],
   "source": [
    "#위 결과로 basalt, breccia는 수집이 많았지만 사용량도 많아 추가 수집 필요\n",
    "rock_samples.groupby('Type')['Weight (kg)'].sum()"
   ]
  },
  {
   "cell_type": "code",
   "execution_count": null,
   "id": "e3b518c3",
   "metadata": {},
   "outputs": [],
   "source": [
    "#위 결과로 crustal 과 special 항목이 엄청 적은걸 볼수있다.\n",
    "needed_samples.head()"
   ]
  },
  {
   "cell_type": "code",
   "execution_count": null,
   "id": "64e3a6dd",
   "metadata": {},
   "outputs": [],
   "source": [
    "rock_samples.loc[rock_samples['Type']=='Crustal']"
   ]
  },
  {
   "cell_type": "code",
   "execution_count": null,
   "id": "20144be3",
   "metadata": {},
   "outputs": [],
   "source": [
    "needed_samples = pd.concat([needed_samples, rock_samples.loc[rock_samples['Type'] == 'Crustal']]) \n",
    "needed_samples.info()"
   ]
  },
  {
   "cell_type": "code",
   "execution_count": null,
   "id": "5197cec9",
   "metadata": {},
   "outputs": [],
   "source": [
    "needed_samples_overview = pd.DataFrame()\n",
    "needed_samples_overview"
   ]
  },
  {
   "cell_type": "code",
   "execution_count": null,
   "id": "4a77ee82",
   "metadata": {},
   "outputs": [],
   "source": [
    "type(needed_samples_overview)"
   ]
  },
  {
   "cell_type": "code",
   "execution_count": null,
   "id": "a442bcf5",
   "metadata": {},
   "outputs": [],
   "source": [
    "needed_samples['Type'].unique()"
   ]
  },
  {
   "cell_type": "code",
   "execution_count": null,
   "id": "2b6eef19",
   "metadata": {},
   "outputs": [],
   "source": [
    "needed_samples_overview['Type'] = needed_samples['Type'].unique() #중복 없는 암석 유형 추출\n",
    "needed_samples_overview"
   ]
  },
  {
   "cell_type": "code",
   "execution_count": null,
   "id": "a6e97e05",
   "metadata": {},
   "outputs": [],
   "source": [
    "needed_samples.groupby('Type')['Weight (kg)'].sum()"
   ]
  },
  {
   "cell_type": "code",
   "execution_count": null,
   "id": "5686b348",
   "metadata": {},
   "outputs": [],
   "source": [
    "type(needed_samples.groupby('Type')['Weight (kg)'].sum())"
   ]
  },
  {
   "cell_type": "code",
   "execution_count": null,
   "id": "f74e629d",
   "metadata": {},
   "outputs": [],
   "source": [
    "needed_samples.groupby('Type')['Weight (kg)'].sum().reset_index()"
   ]
  },
  {
   "cell_type": "code",
   "execution_count": null,
   "id": "3568bd93",
   "metadata": {},
   "outputs": [],
   "source": [
    "type(needed_samples.groupby('Type')['Weight (kg)'].sum().reset_index())"
   ]
  },
  {
   "cell_type": "code",
   "execution_count": null,
   "id": "d003ae1c",
   "metadata": {},
   "outputs": [],
   "source": [
    "needed_samples_overview"
   ]
  },
  {
   "cell_type": "code",
   "execution_count": null,
   "id": "49f20bb8",
   "metadata": {},
   "outputs": [],
   "source": [
    "needed_samples_weights = needed_samples.groupby('Type')['Weight (kg)'].sum().reset_index()\n",
    "needed_samples_weights"
   ]
  },
  {
   "cell_type": "code",
   "execution_count": null,
   "id": "898d5633",
   "metadata": {},
   "outputs": [],
   "source": [
    "needed_samples_overview = pd.merge(needed_samples_overview, needed_samples_weights, on = 'Type') #df합치기\n",
    "needed_samples_overview"
   ]
  },
  {
   "cell_type": "code",
   "execution_count": null,
   "id": "b9297881",
   "metadata": {},
   "outputs": [],
   "source": [
    "needed_samples_overview.rename(columns={'Weight (kg)': 'Total Weight (kg)'},inplace=True)\n",
    "needed_samples_overview"
   ]
  },
  {
   "cell_type": "code",
   "execution_count": null,
   "id": "20b15e35",
   "metadata": {},
   "outputs": [],
   "source": [
    "needed_samples.groupby('Type')['Weight (kg)'].mean() #암석중량 평균"
   ]
  },
  {
   "cell_type": "code",
   "execution_count": null,
   "id": "3af115e6",
   "metadata": {},
   "outputs": [],
   "source": [
    "needed_samples_ave_weight = needed_samples.groupby('Type')['Weight (kg)'].mean().reset_index() #데이터프레임으로변환\n",
    "needed_samples_ave_weight"
   ]
  },
  {
   "cell_type": "code",
   "execution_count": null,
   "id": "7909ca3f",
   "metadata": {},
   "outputs": [],
   "source": [
    "needed_samples_overview = pd.merge(needed_samples_overview, needed_samples_ave_weight, on = 'Type')\n",
    "needed_samples_overview"
   ]
  },
  {
   "cell_type": "code",
   "execution_count": null,
   "id": "3aa3f78e",
   "metadata": {},
   "outputs": [],
   "source": [
    "needed_samples_overview.rename(columns={'Weight (kg)':'Average Weight (kg)'}, inplace=True) #컬럼명변경\n",
    "needed_samples_overview"
   ]
  },
  {
   "cell_type": "code",
   "execution_count": null,
   "id": "0928906c",
   "metadata": {},
   "outputs": [],
   "source": [
    "total_rock_count = rock_samples.groupby('Type')['ID'].count().reset_index()\n",
    "total_rock_count"
   ]
  },
  {
   "cell_type": "code",
   "execution_count": null,
   "id": "c26da9b7",
   "metadata": {},
   "outputs": [],
   "source": [
    "needed_samples_overview = pd.merge(needed_samples_overview, total_rock_count, on = 'Type')\n",
    "needed_samples_overview.rename(columns={'ID':'Numbers of samples'}, inplace=True)\n",
    "needed_samples_overview"
   ]
  },
  {
   "cell_type": "code",
   "execution_count": null,
   "id": "941c5f99",
   "metadata": {},
   "outputs": [],
   "source": [
    "total_rocks = needed_samples_overview['Numbers of samples'].sum()\n",
    "total_rocks"
   ]
  },
  {
   "cell_type": "code",
   "execution_count": null,
   "id": "e003084a",
   "metadata": {},
   "outputs": [],
   "source": [
    "needed_samples_overview['Percentage of rocks'] = needed_samples_overview['Numbers of samples'] / total_rocks\n",
    "needed_samples_overview"
   ]
  },
  {
   "cell_type": "code",
   "execution_count": null,
   "id": "3c0eee57",
   "metadata": {},
   "outputs": [],
   "source": [
    "artemis_mission"
   ]
  },
  {
   "cell_type": "code",
   "execution_count": null,
   "id": "84819519",
   "metadata": {},
   "outputs": [],
   "source": [
    "artemis_ave_weight = artemis_mission['Estimated sample weight (kg)'].mean()\n",
    "artemis_ave_weight"
   ]
  },
  {
   "cell_type": "code",
   "execution_count": null,
   "id": "c6aaebf6",
   "metadata": {},
   "outputs": [],
   "source": [
    "needed_samples_overview['Weight to collect'] = needed_samples_overview['Percentage of rocks']*artemis_ave_weight\n",
    "needed_samples_overview['Rocks to collect'] = needed_samples_overview['Weight to collect']/needed_samples_overview['Average Weight (kg)']\n",
    "needed_samples_overview"
   ]
  },
  {
   "cell_type": "code",
   "execution_count": null,
   "id": "b7333300",
   "metadata": {},
   "outputs": [],
   "source": [
    "import matplotlib.pyplot as plt\n",
    "\n",
    "missions = rock_samples.groupby(\"Mission\")[\"Weight (kg)\"].sum().reset_index()\n",
    "\n",
    "plt.figure(figsize=(8,5))\n",
    "plt.bar(missions[\"Mission\"], missions[\"Weight (kg)\"], color=\"skyblue\")\n",
    "plt.title(\"Total Sample Weight by Mission\")\n",
    "plt.xlabel(\"Mission\")\n",
    "plt.ylabel(\"Weight (kg)\")\n",
    "plt.xticks(rotation=45)\n",
    "plt.tight_layout()\n",
    "plt.savefig(\"mission_total_weight.png\")  # 이미지 저장\n",
    "plt.show()\n"
   ]
  },
  {
   "cell_type": "code",
   "execution_count": null,
   "id": "ee366ca7",
   "metadata": {},
   "outputs": [],
   "source": [
    "types = rock_samples.groupby(\"Type\")[\"Weight (kg)\"].sum()\n",
    "\n",
    "plt.figure(figsize=(6,6))\n",
    "plt.pie(types, labels=types.index, autopct=\"%.1f%%\", startangle=90)\n",
    "plt.title(\"Rock Types Proportion\")\n",
    "plt.savefig(\"rock_type_ratio.png\")\n",
    "plt.show()\n"
   ]
  },
  {
   "cell_type": "code",
   "execution_count": null,
   "id": "a5e96178",
   "metadata": {},
   "outputs": [],
   "source": [
    "plt.figure(figsize=(8,5))\n",
    "rock_samples.boxplot(column=\"Remaining (kg)\", by=\"Mission\", grid=False)\n",
    "plt.title(\"Remaining (kg) by Mission\")\n",
    "plt.suptitle(\"\")  # 상단 중복 타이틀 제거\n",
    "plt.xlabel(\"Mission\")\n",
    "plt.ylabel(\"Remaining (kg)\")\n",
    "plt.tight_layout()\n",
    "plt.savefig(\"remaining_by_mission.png\")\n",
    "plt.show()\n"
   ]
  }
 ],
 "metadata": {
  "kernelspec": {
   "display_name": "py313",
   "language": "python",
   "name": "python3"
  },
  "language_info": {
   "codemirror_mode": {
    "name": "ipython",
    "version": 3
   },
   "file_extension": ".py",
   "mimetype": "text/x-python",
   "name": "python",
   "nbconvert_exporter": "python",
   "pygments_lexer": "ipython3",
   "version": "3.13.7"
  }
 },
 "nbformat": 4,
 "nbformat_minor": 5
}
